{
 "cells": [
  {
   "cell_type": "markdown",
   "metadata": {},
   "source": [
    "# SIngly Circular LinkedList"
   ]
  },
  {
   "cell_type": "code",
   "execution_count": 10,
   "metadata": {},
   "outputs": [
    {
     "name": "stdout",
     "output_type": "stream",
     "text": [
      "Jake\n",
      "Amy\n",
      "Rosa\n",
      "Jake\n"
     ]
    }
   ],
   "source": [
    "class Node:\n",
    "    def __init__(self, data):\n",
    "        self.data = data\n",
    "        self.next = None\n",
    "        \n",
    "class CircularLinkedList:\n",
    "    def __init__(self):\n",
    "        self.head = None\n",
    "        \n",
    "    def insert(self , newNode):\n",
    "        if self.head is None:\n",
    "            self.head = newNode\n",
    "            newNode.next = self.head\n",
    "            return\n",
    "        currentNode = self.head\n",
    "        while currentNode.next is not self.head:\n",
    "            currentNode = currentNode.next\n",
    "        currentNode.next = newNode\n",
    "        newNode.next = self.head\n",
    "        \n",
    "    def insert_head(self, newNode):\n",
    "        if self.head is None:\n",
    "            self.head = newNode\n",
    "            newNode.next = self.head\n",
    "            return\n",
    "        lastNode = self.head\n",
    "        while lastNode.next is not self.head:\n",
    "            lastNode = lastNode.next\n",
    "        newNode.next = self.head\n",
    "        self.head = newNode\n",
    "        lastNode.next = newNode\n",
    "        \n",
    "    def delete(self):\n",
    "        lastNode = self.head\n",
    "        while lastNode.next is not self.head:\n",
    "            previousNode = lastNode\n",
    "            lastNode = lastNode.next\n",
    "        lastNode.next = None\n",
    "        previousNode.next = self.head\n",
    "        \n",
    "    def delete_head(self):\n",
    "        lastNode = self.head\n",
    "        while lastNode.next is not self.head:\n",
    "            lastNode = lastNode.next\n",
    "        previousHead = self.head\n",
    "        self.head = self.head.next\n",
    "        lastNode.next = self.head\n",
    "        previousHead.next = None\n",
    "        \n",
    "    def printlist(self):\n",
    "        if self.head is None:\n",
    "            print('List is empty')\n",
    "            return\n",
    "        currentNode = self.head\n",
    "        while True:\n",
    "            print(currentNode.data)\n",
    "            if currentNode.next is self.head:\n",
    "                break\n",
    "            currentNode = currentNode.next\n",
    "            \n",
    "        currentNode = currentNode.next\n",
    "        print(currentNode.data)\n",
    "        \n",
    "    \n",
    "nodeOne = Node('Jake')\n",
    "nodeTwo = Node('Amy')\n",
    "nodeThree = Node('Rosa')\n",
    "nodeFour = Node('Terry')\n",
    "nodeFive = Node('Scully')\n",
    "linkedlist = CircularLinkedList()\n",
    "linkedlist.insert(nodeOne)\n",
    "linkedlist.insert(nodeTwo)\n",
    "linkedlist.insert(nodeThree)\n",
    "linkedlist.insert(nodeFour)\n",
    "linkedlist.insert_head(nodeFive)\n",
    "linkedlist.delete()\n",
    "linkedlist.delete_head()\n",
    "linkedlist.printlist()\n"
   ]
  },
  {
   "cell_type": "code",
   "execution_count": null,
   "metadata": {},
   "outputs": [],
   "source": []
  },
  {
   "cell_type": "code",
   "execution_count": null,
   "metadata": {},
   "outputs": [],
   "source": []
  }
 ],
 "metadata": {
  "kernelspec": {
   "display_name": "Python 3",
   "language": "python",
   "name": "python3"
  },
  "language_info": {
   "codemirror_mode": {
    "name": "ipython",
    "version": 3
   },
   "file_extension": ".py",
   "mimetype": "text/x-python",
   "name": "python",
   "nbconvert_exporter": "python",
   "pygments_lexer": "ipython3",
   "version": "3.7.7"
  }
 },
 "nbformat": 4,
 "nbformat_minor": 4
}
