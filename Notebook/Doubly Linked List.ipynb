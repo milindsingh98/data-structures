{
 "cells": [
  {
   "cell_type": "markdown",
   "metadata": {},
   "source": [
    "# Doubly Linked List\n",
    "\n",
    "## The following operations will be studied in this notebook-\n",
    "    # a. add a node at the end of the list\n",
    "    b. add a node at the beginning of list\n",
    "    c. remove the first node\n",
    "    d. remove  the last node\n",
    "    e. delete the middle node\n",
    "    f. reverse the linked list\n",
    "    g. remove the duplicates in the list\n",
    "    h. Sort the linked List\n",
    "    i. count the number of nodes in the linked list\n",
    "    j. add a node before a node\n",
    "    k. add a node after a node\n",
    "    l. Merging two sorted Linked lists"
   ]
  },
  {
   "cell_type": "code",
   "execution_count": 1,
   "metadata": {},
   "outputs": [],
   "source": [
    "class Node:\n",
    "    def __init__(self ,data):\n",
    "        self.data = data\n",
    "        self.prev = None\n",
    "        self.next = None\n",
    "        \n",
    "class DoublyLinkedList:\n",
    "    def __init__(self):\n",
    "        self.head = None\n",
    "        \n",
    "    def isEmpty(self):\n",
    "        if self.head is None:\n",
    "            return True\n",
    "        else:\n",
    "            return False\n",
    "        \n",
    "    def listlength(self):\n",
    "        if self.isEmpty():\n",
    "            print('The list is empty')\n",
    "            return\n",
    "        else:\n",
    "            currentNode = self.head\n",
    "            length = 0\n",
    "            while currentNode is not None:\n",
    "                length += 1\n",
    "                currentNode = currentNode.next\n",
    "            return length\n",
    "        \n",
    "    def insert_head(self , newNode):\n",
    "        tempNode = self.head\n",
    "        self.head = newNode\n",
    "        self.head.next = tempNode\n",
    "        tempNode.prev = self.head\n",
    "        del tempNode\n",
    "        \n",
    "    \n",
    "    def insertAt(self , newNode , position):\n",
    "        if self.isEmpty() or self.listlength() < 0 or self.listlength() <= position:\n",
    "            print('The list either empty or the position is more than listlength')\n",
    "            return\n",
    "        if position is 0:\n",
    "            self.insert_head(newNode)\n",
    "            return\n",
    "        if position is self.listlength():\n",
    "            self.insert()\n",
    "            return\n",
    "        else:\n",
    "            currentNode = self.head\n",
    "            currentPos = 1\n",
    "            while True:\n",
    "                if currentPos == position:\n",
    "                    currentNode.prev.next = newNode\n",
    "                    newNode.prev = currentNode.prev\n",
    "                    newNode.next = currentNode\n",
    "                    currentNode.prev = newNode\n",
    "                    break\n",
    "                currentPos +=1\n",
    "                currentNode = currentNode.next\n",
    "            \n",
    "    \n",
    "    def insert_before(self , newNode, markedNode):\n",
    "        if self.isEmpty():\n",
    "            print('The list is empty')\n",
    "            return\n",
    "        else:\n",
    "            currentNode = self.head\n",
    "            while True:\n",
    "                if currentNode.data == markedNode:\n",
    "                    currentNode.prev.next = newNode\n",
    "                    newNode.prev = currentNode.prev\n",
    "                    newNode.next = currentNode\n",
    "                    currentNode.prev = newNode\n",
    "                    break\n",
    "                previousNode = currentNode\n",
    "                currentNode = currentNode.next\n",
    "    \n",
    "    def insert_after(self, newNode, markedNode):\n",
    "        if self.isEmpty():\n",
    "            print('The list is empty')\n",
    "            return\n",
    "        currentNode = self.head\n",
    "        previousNode = None\n",
    "        while True:\n",
    "            if currentNode.data == markedNode:\n",
    "                nextNode = currentNode.next #marking the next Node to currentNode\n",
    "                currentNode.next = newNode \n",
    "                newNode.prev = currentNode\n",
    "                newNode.next = nextNode\n",
    "                nextNode.prev = newNode\n",
    "                break\n",
    "            currentNode = currentNode.next\n",
    "            \n",
    "    \n",
    "        \n",
    "    def insert(self , newNode):\n",
    "        if self.head is None:\n",
    "            self.head = newNode\n",
    "            return\n",
    "        else:\n",
    "            currentNode = self.head\n",
    "            while True:\n",
    "                if currentNode.next is None:\n",
    "                    break\n",
    "                currentNode = currentNode.next\n",
    "            currentNode.next = newNode\n",
    "            newNode.prev = currentNode\n",
    "            \n",
    "    def deleteNode(self , markedNode):\n",
    "        if self.isEmpty():\n",
    "            print('The list is empty')\n",
    "            return\n",
    "        currentNode = self.head\n",
    "        previousNode = None\n",
    "        while True:\n",
    "            if currentNode.data == markedNode:\n",
    "                tempNode = currentNode\n",
    "                previousNode.next = currentNode.next\n",
    "                currentNode.next.prev = previousNode\n",
    "                del tempNode\n",
    "                break\n",
    "            previousNode = currentNode\n",
    "            currentNode = currentNode.next\n",
    "            \n",
    "    def delete_head(self):\n",
    "        tempNode = self.head\n",
    "        self.head = tempNode.next\n",
    "        self.head.prev = None\n",
    "        del tempNode\n",
    "        \n",
    "            \n",
    "    def deleteAt(self , position):\n",
    "        if self.isEmpty() or self.listlength()<0:\n",
    "            print('The linkedList is empty')\n",
    "            return\n",
    "        if position == 1:\n",
    "            self.delete_head()\n",
    "            return\n",
    "        currentNode = self.head\n",
    "        currentPos = 1\n",
    "        while True:\n",
    "            if currentPos == position:\n",
    "                tempNode = currentNode\n",
    "                currentNode.prev.next = currentNode.next\n",
    "                currentNode.next.prev = currentNode.prev\n",
    "                del tempNode\n",
    "                break\n",
    "            currentPos +=1\n",
    "            currentNode = currentNode.next\n",
    "            \n",
    "    def deleteEnd(self):\n",
    "        if self.isEmpty() or self.listlength() <= 0:\n",
    "            print('THe linkedList is empty')\n",
    "            return\n",
    "        if self.listlength() == 1:\n",
    "            self.delete_head()\n",
    "            return\n",
    "        lastNode = self.head\n",
    "        while True:\n",
    "            if lastNode.next.next is None:\n",
    "                lastNode.next.prev = None\n",
    "                lastNode.next.next = None\n",
    "                lastNode.next = None\n",
    "                break\n",
    "            lastNode = lastNode.next\n",
    "            \n",
    "            \n",
    "    def printlist(self):\n",
    "        if self.head is None:\n",
    "            print('The list is None')\n",
    "            return\n",
    "        else:\n",
    "            currentNode = self.head\n",
    "            print('Printing from the beginning')\n",
    "            while True:\n",
    "                if currentNode is None:\n",
    "                    break\n",
    "                print(currentNode.data)\n",
    "                if currentNode.next is None:\n",
    "                    reverseNode = currentNode\n",
    "                currentNode = currentNode.next\n",
    "            print('Printing from the end')\n",
    "            while True:\n",
    "                if reverseNode is None:\n",
    "                    break\n",
    "                print(reverseNode.data)\n",
    "                reverseNode = reverseNode.prev\n",
    "                \n",
    "            \n",
    "                "
   ]
  },
  {
   "cell_type": "code",
   "execution_count": 2,
   "metadata": {},
   "outputs": [],
   "source": [
    "FirstNode = Node('Norm')\n",
    "SecondNode = Node('Scully')\n",
    "doublylist = DoublyLinkedList()\n",
    "doublylist.insert(FirstNode)\n",
    "doublylist.insert(SecondNode)"
   ]
  },
  {
   "cell_type": "code",
   "execution_count": 3,
   "metadata": {},
   "outputs": [
    {
     "name": "stdout",
     "output_type": "stream",
     "text": [
      "Printing from the beginning\n",
      "Norm\n",
      "Scully\n",
      "Printing from the end\n",
      "Scully\n",
      "Norm\n"
     ]
    }
   ],
   "source": [
    "doublylist.printlist()"
   ]
  },
  {
   "cell_type": "code",
   "execution_count": 4,
   "metadata": {},
   "outputs": [
    {
     "name": "stdout",
     "output_type": "stream",
     "text": [
      "Printing from the beginning\n",
      "Jake\n",
      "Norm\n",
      "Scully\n",
      "Printing from the end\n",
      "Scully\n",
      "Norm\n",
      "Jake\n"
     ]
    }
   ],
   "source": [
    "ThirdNode = Node('Jake')\n",
    "doublylist.insert_head(ThirdNode)\n",
    "doublylist.printlist()"
   ]
  },
  {
   "cell_type": "code",
   "execution_count": 5,
   "metadata": {},
   "outputs": [
    {
     "data": {
      "text/plain": [
       "3"
      ]
     },
     "execution_count": 5,
     "metadata": {},
     "output_type": "execute_result"
    }
   ],
   "source": [
    "doublylist.listlength()"
   ]
  },
  {
   "cell_type": "code",
   "execution_count": 6,
   "metadata": {},
   "outputs": [
    {
     "data": {
      "text/plain": [
       "False"
      ]
     },
     "execution_count": 6,
     "metadata": {},
     "output_type": "execute_result"
    }
   ],
   "source": [
    "doublylist.isEmpty()"
   ]
  },
  {
   "cell_type": "code",
   "execution_count": 7,
   "metadata": {},
   "outputs": [
    {
     "name": "stdout",
     "output_type": "stream",
     "text": [
      "Printing from the beginning\n",
      "Jake\n",
      "Rosa\n",
      "Norm\n",
      "Scully\n",
      "Printing from the end\n",
      "Scully\n",
      "Norm\n",
      "Rosa\n",
      "Jake\n"
     ]
    }
   ],
   "source": [
    "FourthNode = Node('Rosa')\n",
    "doublylist.insertAt(FourthNode , 2)\n",
    "doublylist.printlist()"
   ]
  },
  {
   "cell_type": "code",
   "execution_count": 8,
   "metadata": {},
   "outputs": [
    {
     "name": "stdout",
     "output_type": "stream",
     "text": [
      "Printing from the beginning\n",
      "Jake\n",
      "Amy\n",
      "Rosa\n",
      "Norm\n",
      "Scully\n",
      "Printing from the end\n",
      "Scully\n",
      "Norm\n",
      "Rosa\n",
      "Amy\n",
      "Jake\n"
     ]
    }
   ],
   "source": [
    "FifthNode = Node('Amy')\n",
    "doublylist.insert_before(FifthNode , 'Rosa')\n",
    "doublylist.printlist()"
   ]
  },
  {
   "cell_type": "code",
   "execution_count": 9,
   "metadata": {},
   "outputs": [
    {
     "name": "stdout",
     "output_type": "stream",
     "text": [
      "Printing from the beginning\n",
      "Jake\n",
      "Amy\n",
      "Rosa\n",
      "Holt\n",
      "Norm\n",
      "Scully\n",
      "Printing from the end\n",
      "Scully\n",
      "Norm\n",
      "Holt\n",
      "Rosa\n",
      "Amy\n",
      "Jake\n"
     ]
    }
   ],
   "source": [
    "SixthNode = Node('Holt')\n",
    "doublylist.insert_after(SixthNode , 'Rosa')\n",
    "doublylist.printlist()"
   ]
  },
  {
   "cell_type": "code",
   "execution_count": 10,
   "metadata": {},
   "outputs": [
    {
     "name": "stdout",
     "output_type": "stream",
     "text": [
      "Printing from the beginning\n",
      "Jake\n",
      "Amy\n",
      "Rosa\n",
      "Norm\n",
      "Scully\n",
      "Printing from the end\n",
      "Scully\n",
      "Norm\n",
      "Rosa\n",
      "Amy\n",
      "Jake\n"
     ]
    }
   ],
   "source": [
    "doublylist.deleteNode('Holt')\n",
    "doublylist.printlist()"
   ]
  },
  {
   "cell_type": "code",
   "execution_count": 11,
   "metadata": {},
   "outputs": [
    {
     "name": "stdout",
     "output_type": "stream",
     "text": [
      "Printing from the beginning\n",
      "Amy\n",
      "Rosa\n",
      "Norm\n",
      "Scully\n",
      "Printing from the end\n",
      "Scully\n",
      "Norm\n",
      "Rosa\n",
      "Amy\n"
     ]
    }
   ],
   "source": [
    "doublylist.delete_head()\n",
    "doublylist.printlist()"
   ]
  },
  {
   "cell_type": "code",
   "execution_count": 12,
   "metadata": {},
   "outputs": [
    {
     "name": "stdout",
     "output_type": "stream",
     "text": [
      "Printing from the beginning\n",
      "Amy\n",
      "Norm\n",
      "Scully\n",
      "Printing from the end\n",
      "Scully\n",
      "Norm\n",
      "Amy\n"
     ]
    }
   ],
   "source": [
    "doublylist.deleteAt(2)\n",
    "doublylist.printlist()"
   ]
  },
  {
   "cell_type": "code",
   "execution_count": 13,
   "metadata": {},
   "outputs": [
    {
     "name": "stdout",
     "output_type": "stream",
     "text": [
      "Printing from the beginning\n",
      "Amy\n",
      "Norm\n",
      "Printing from the end\n",
      "Norm\n",
      "Amy\n"
     ]
    }
   ],
   "source": [
    "doublylist.deleteEnd()\n",
    "doublylist.printlist()"
   ]
  },
  {
   "cell_type": "markdown",
   "metadata": {},
   "source": [
    "\n",
    "# Reversing a doubly linkedList\n"
   ]
  },
  {
   "cell_type": "code",
   "execution_count": 14,
   "metadata": {},
   "outputs": [],
   "source": [
    "def reverseList(doublylist):\n",
    "    currentNode = doublylist.head\n",
    "    while currentNode is not None:\n",
    "        nextNode = currentNode.next\n",
    "        currentNode.next = currentNode.prev\n",
    "        currentNode.prev = nextNode\n",
    "        if currentNode.prev is None:\n",
    "            doublylist.head = currentNode\n",
    "        currentNode = nextNode\n",
    "    "
   ]
  },
  {
   "cell_type": "code",
   "execution_count": 15,
   "metadata": {},
   "outputs": [],
   "source": [
    "reverseList(doublylist)"
   ]
  },
  {
   "cell_type": "code",
   "execution_count": 16,
   "metadata": {},
   "outputs": [
    {
     "name": "stdout",
     "output_type": "stream",
     "text": [
      "Printing from the beginning\n",
      "Norm\n",
      "Amy\n",
      "Printing from the end\n",
      "Amy\n",
      "Norm\n"
     ]
    }
   ],
   "source": [
    "doublylist.printlist()"
   ]
  },
  {
   "cell_type": "markdown",
   "metadata": {},
   "source": [
    "# Removing duplictes from an unsorted list"
   ]
  },
  {
   "cell_type": "code",
   "execution_count": 17,
   "metadata": {},
   "outputs": [],
   "source": [
    "def removeDuplicates(doublylist1):\n",
    "    nodeCount = {}\n",
    "    currentNode = doublylist1.head\n",
    "    while True:\n",
    "        if currentNode.data not in nodeCount.keys():\n",
    "            nodeCount[currentNode.data] = 1\n",
    "        else:\n",
    "            nodeCount[currentNode.data] += 1\n",
    "        if currentNode.next is None:\n",
    "            while True:\n",
    "                if currentNode.prev is None:\n",
    "                    break\n",
    "                previousNode = currentNode.prev\n",
    "                if nodeCount[currentNode.data] > 1:\n",
    "                    currentNode.prev.next = currentNode.next\n",
    "                    if currentNode.next is not None:\n",
    "                        currentNode.next.prev = currentNode.prev\n",
    "                    currentNode.next = None\n",
    "                    currentNode.prev = None\n",
    "                    nodeCount[currentNode.data] -=1\n",
    "                currentNode = previousNode\n",
    "            break\n",
    "        currentNode = currentNode.next"
   ]
  },
  {
   "cell_type": "code",
   "execution_count": 18,
   "metadata": {},
   "outputs": [],
   "source": [
    "doublylist1 = DoublyLinkedList()\n",
    "node1 = Node(13)\n",
    "node2 = Node(5)\n",
    "node3 = Node(13)\n",
    "node4 = Node(2)\n",
    "node5 = Node(13)\n",
    "doublylist1.insert(node1)\n",
    "doublylist1.insert(node2)\n",
    "doublylist1.insert(node3)\n",
    "doublylist1.insert(node4)\n",
    "doublylist1.insert(node5)\n",
    "removeDuplicates(doublylist1)"
   ]
  },
  {
   "cell_type": "code",
   "execution_count": 19,
   "metadata": {},
   "outputs": [
    {
     "name": "stdout",
     "output_type": "stream",
     "text": [
      "Printing from the beginning\n",
      "13\n",
      "5\n",
      "2\n",
      "Printing from the end\n",
      "2\n",
      "5\n",
      "13\n"
     ]
    }
   ],
   "source": [
    "doublylist1.printlist()"
   ]
  },
  {
   "cell_type": "markdown",
   "metadata": {},
   "source": [
    "# CHeck if a doubly linked List is a palindrome or not"
   ]
  },
  {
   "cell_type": "code",
   "execution_count": 26,
   "metadata": {},
   "outputs": [
    {
     "name": "stdout",
     "output_type": "stream",
     "text": [
      "Printing from the beginning\n",
      "L\n",
      "E\n",
      "V\n",
      "F\n",
      "L\n",
      "Printing from the end\n",
      "L\n",
      "F\n",
      "V\n",
      "E\n",
      "L\n"
     ]
    }
   ],
   "source": [
    "first = Node('L')\n",
    "Second = Node('E')\n",
    "Third = Node('V')\n",
    "Fourth = Node('F')\n",
    "Fifth = Node('L')\n",
    "lis = DoublyLinkedList()\n",
    "lis.insert(first)\n",
    "lis.insert(Second)\n",
    "lis.insert(Third)\n",
    "lis.insert(Fourth)\n",
    "lis.insert(Fifth)\n",
    "lis.printlist()\n"
   ]
  },
  {
   "cell_type": "code",
   "execution_count": 27,
   "metadata": {},
   "outputs": [],
   "source": [
    "def palindrome(lis):\n",
    "    startPointer = lis.head\n",
    "    endPointer = lis.head\n",
    "    while endPointer.next is not None:\n",
    "        endPointer = endPointer.next\n",
    "    while True:\n",
    "        if startPointer == endPointer:\n",
    "            print('List is Palindrone')\n",
    "            return\n",
    "        if startPointer.data == endPointer.data:\n",
    "            startPointer = startPointer.next\n",
    "            endPointer = endPointer.prev\n",
    "        else:\n",
    "            print('List is not Palindrome')\n",
    "            return"
   ]
  },
  {
   "cell_type": "code",
   "execution_count": 28,
   "metadata": {},
   "outputs": [
    {
     "name": "stdout",
     "output_type": "stream",
     "text": [
      "List is not Palindrome\n"
     ]
    }
   ],
   "source": [
    "palindrome(lis)"
   ]
  },
  {
   "cell_type": "code",
   "execution_count": null,
   "metadata": {},
   "outputs": [],
   "source": []
  }
 ],
 "metadata": {
  "kernelspec": {
   "display_name": "Python 3",
   "language": "python",
   "name": "python3"
  },
  "language_info": {
   "codemirror_mode": {
    "name": "ipython",
    "version": 3
   },
   "file_extension": ".py",
   "mimetype": "text/x-python",
   "name": "python",
   "nbconvert_exporter": "python",
   "pygments_lexer": "ipython3",
   "version": "3.7.7"
  }
 },
 "nbformat": 4,
 "nbformat_minor": 4
}
