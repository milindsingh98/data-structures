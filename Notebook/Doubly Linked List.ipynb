{
 "cells": [
  {
   "cell_type": "markdown",
   "metadata": {},
   "source": [
    "# Doubly Linked List\n",
    "\n",
    "## The following operations will be studied in this notebook-\n",
    "    # a. add a node at the end of the list\n",
    "    b. add a node at the beginning of list\n",
    "    c. remove the first node\n",
    "    d. remove  the last node\n",
    "    e. delete the middle node\n",
    "    f. reverse the linked list\n",
    "    g. remove the duplicates in the list\n",
    "    h. Sort the linked List\n",
    "    i. count the number of nodes in the linked list\n",
    "    j. add a node before a node\n",
    "    k. add a node after a node\n",
    "    l. Merging two sorted Linked lists"
   ]
  },
  {
   "cell_type": "code",
   "execution_count": 30,
   "metadata": {},
   "outputs": [],
   "source": [
    "class Node:\n",
    "    def __init__(self ,data):\n",
    "        self.data = data\n",
    "        self.prev = None\n",
    "        self.next = None\n",
    "        \n",
    "class DoublyLinkedList:\n",
    "    def __init__(self):\n",
    "        self.head = None\n",
    "        \n",
    "    def insert_head(self , newNode):\n",
    "        tempNode = self.head\n",
    "        self.head = newNode\n",
    "        newNode.next = tempNode\n",
    "        newNode.prev = None\n",
    "        del tempNode\n",
    "        \n",
    "    \n",
    "    def insertAt(self , newNode):\n",
    "        pass\n",
    "    \n",
    "    def insert_before(self , newNode):\n",
    "        pass\n",
    "    \n",
    "    def insert_after(self, newNode):\n",
    "        pass\n",
    "    \n",
    "        \n",
    "    def insert(self , newNode):\n",
    "        if self.head is None:\n",
    "            self.head = newNode\n",
    "            return\n",
    "        else:\n",
    "            currentNode = self.head\n",
    "            while True:\n",
    "                if currentNode.next is None:\n",
    "                    break\n",
    "                currentNode = currentNode.next\n",
    "            currentNode.next = newNode\n",
    "            newNode.prev = currentNode.next\n",
    "            \n",
    "    def printlist(self):\n",
    "        if self.head is None:\n",
    "            print('The list is None')\n",
    "            return\n",
    "        else:\n",
    "            currentNode = self.head\n",
    "            while True:\n",
    "                if currentNode is None:\n",
    "                    break\n",
    "                print(currentNode.data)\n",
    "                currentNode = currentNode.next\n",
    "            \n",
    "                "
   ]
  },
  {
   "cell_type": "code",
   "execution_count": 31,
   "metadata": {},
   "outputs": [],
   "source": [
    "FirstNode = Node('Norm')\n",
    "SecondNode = Node('Scully')\n",
    "doublylist = DoublyLinkedList()\n",
    "doublylist.insert(FirstNode)\n",
    "doublylist.insert(SecondNode)"
   ]
  },
  {
   "cell_type": "code",
   "execution_count": 32,
   "metadata": {},
   "outputs": [
    {
     "name": "stdout",
     "output_type": "stream",
     "text": [
      "Norm\n",
      "Scully\n"
     ]
    }
   ],
   "source": [
    "doublylist.printlist()"
   ]
  },
  {
   "cell_type": "code",
   "execution_count": 33,
   "metadata": {},
   "outputs": [
    {
     "name": "stdout",
     "output_type": "stream",
     "text": [
      "Jake\n",
      "Norm\n",
      "Scully\n"
     ]
    }
   ],
   "source": [
    "ThirdNode = Node('Jake')\n",
    "doublylist.insert_head(ThirdNode)\n",
    "doublylist.printlist()"
   ]
  },
  {
   "cell_type": "code",
   "execution_count": null,
   "metadata": {},
   "outputs": [],
   "source": []
  }
 ],
 "metadata": {
  "kernelspec": {
   "display_name": "Python 3",
   "language": "python",
   "name": "python3"
  },
  "language_info": {
   "codemirror_mode": {
    "name": "ipython",
    "version": 3
   },
   "file_extension": ".py",
   "mimetype": "text/x-python",
   "name": "python",
   "nbconvert_exporter": "python",
   "pygments_lexer": "ipython3",
   "version": "3.7.7"
  }
 },
 "nbformat": 4,
 "nbformat_minor": 4
}
