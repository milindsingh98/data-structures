{
 "cells": [
  {
   "cell_type": "markdown",
   "metadata": {},
   "source": [
    "# Singly Linked List\n",
    "\n",
    "## The following operations will be studied in this notebook-\n",
    "    # a. add a node at the end of the list\n",
    "    b. add a node at the beginning of list\n",
    "    c. remove the first node\n",
    "    d. remove  the last node\n",
    "    e. delete the middle node\n",
    "    f. reverse the linked list\n",
    "    g. remove the duplicates in the list\n",
    "    h. Sort the linked List\n",
    "    i. count the number of nodes in the linked list\n",
    "    j. add a node before a node\n",
    "    k. add a node after a node\n",
    "    l. Merging two sorted Linked lists"
   ]
  },
  {
   "cell_type": "markdown",
   "metadata": {},
   "source": [
    "### Constructing a simple linked List first"
   ]
  },
  {
   "cell_type": "markdown",
   "metadata": {},
   "source": [
    "#### Linked List contains the list of nodes"
   ]
  },
  {
   "cell_type": "code",
   "execution_count": 20,
   "metadata": {},
   "outputs": [],
   "source": [
    "class Node:\n",
    "    def __init__(self , data):\n",
    "        self.data = data\n",
    "        self.next = None\n",
    "        \n",
    "class LinkedList:\n",
    "    def __init__(self):\n",
    "        self.head = None\n",
    "        \n",
    "        \n",
    "    def insert_head(self , newNode):\n",
    "        temp_node = self.head\n",
    "        self.head = newNode\n",
    "        self.head.next = temp_node\n",
    "        del temp_node\n",
    "        \n",
    "    def isEmpty(self):\n",
    "        if self.head is None:\n",
    "            return True\n",
    "        else:\n",
    "            return False\n",
    "    \n",
    "    def listLength(self):\n",
    "        currentNode = self.head\n",
    "        length = 0\n",
    "        while currentNode is not None:\n",
    "            length += 1\n",
    "            currentNode =  currentNode.next\n",
    "        return length\n",
    "            \n",
    "        \n",
    "    def insert(self , newNode):\n",
    "        if self.head is None:\n",
    "            self.head = newNode\n",
    "        else:\n",
    "            lastNode = self.head\n",
    "            while True:\n",
    "                if lastNode.next is None:\n",
    "                    break\n",
    "                lastNode = lastNode.next\n",
    "            lastNode.next = newNode\n",
    "            \n",
    "    def insertAtPos(self , newNode, position):\n",
    "        currentNode = self.head\n",
    "        currentPos = 0\n",
    "        while True:\n",
    "            if currentPos == position:\n",
    "                previousNode.next = newNode\n",
    "                newNode.next = currentNode\n",
    "                break\n",
    "            previousNode = currentNode\n",
    "            currentNode = currentNode.next\n",
    "            currentPos +=1\n",
    "            \n",
    "    def insert_between(self , prev_node , next_node , newNode):\n",
    "        currentNode = self.head\n",
    "        while True:\n",
    "            if currentNode.data == prev_node and currentNode.next.data == next_node:\n",
    "                newNode.next = currentNode.next\n",
    "                currentNode.next = newNode\n",
    "                break\n",
    "            currentNode = currentNode.next\n",
    "            \n",
    "    def insertAfter(self, prev_node, newNode):\n",
    "        currentNode = self.head\n",
    "        while True:\n",
    "            if currentNode.data == prev_node:\n",
    "                newNode.next = currentNode.next\n",
    "                currentNode.next = newNode\n",
    "                break\n",
    "            currentNode = currentNode.next\n",
    "            \n",
    "    def insertBefore(self, present_node , newNode):\n",
    "        currentNode = self.head\n",
    "        while True:\n",
    "            if currentNode.data == present_node:\n",
    "                newNode.next = previous.next\n",
    "                previous.next = newNode\n",
    "                break\n",
    "            previous = currentNode\n",
    "            currentNode = currentNode.next\n",
    "            \n",
    "    def delete_end(self):\n",
    "        if self.isEmpty() is False:\n",
    "            if self.head.next is None:\n",
    "                self.delete_head()\n",
    "                return\n",
    "            lastNode = self.head\n",
    "            while lastNode.next is not None:\n",
    "                previousNode = lastNode\n",
    "                lastNode = lastNode.next\n",
    "            previousNode.next = None\n",
    "            del lastNode\n",
    "        else:\n",
    "            print('The list is empty. Delete Failed!')\n",
    "\n",
    "    def delete_head(self):\n",
    "        if self.isEmpty() is False:\n",
    "            prevHead = self.head\n",
    "            self.head = self.head.next\n",
    "            prevHead.next = None\n",
    "            del prevHead\n",
    "        else:\n",
    "            print('The list is empty. Delete Failed!')\n",
    "            \n",
    "    def deleteAt(self , position):\n",
    "        if position < 0 or position >= self.listLength():\n",
    "            print('Invalid position')\n",
    "            return\n",
    "        if self.isEmpty() is True:\n",
    "            print('The list is empty')\n",
    "            return\n",
    "        elif position == 0:\n",
    "            self.delete_head()\n",
    "            return\n",
    "        else:\n",
    "            currentNode = self.head\n",
    "            currentPos = 0\n",
    "            previousNode = None\n",
    "            while True:\n",
    "                if currentPos == position:\n",
    "                    previousNode.next = currentNode.next\n",
    "                    currentNode.next = None\n",
    "                    del currentNode\n",
    "                    break\n",
    "                previousNode = currentNode\n",
    "                currentNode = currentNode.next\n",
    "                currentPos +=1\n",
    "                \n",
    "                \n",
    "    def delete(self , presentNode):\n",
    "        if self.isEmpty():\n",
    "            return\n",
    "        else:\n",
    "            currentNode = self.head\n",
    "            while True:\n",
    "                if currentNode.data == presentNode:\n",
    "                    previousNode.next = currentNode.next\n",
    "                    currentNode.next = None\n",
    "                    break\n",
    "                previousNode = currentNode\n",
    "                currentNode = currentNode.next\n",
    "                    \n",
    "            \n",
    "    def printlist(self):\n",
    "        if self.isEmpty():\n",
    "            print('List is Empty amigos!')\n",
    "        currentNode = self.head\n",
    "        while True:\n",
    "            if currentNode is None:\n",
    "                break\n",
    "            print(currentNode.data)\n",
    "            currentNode = currentNode.next\n",
    "                \n",
    "            \n",
    "            \n",
    "    "
   ]
  },
  {
   "cell_type": "code",
   "execution_count": 21,
   "metadata": {},
   "outputs": [
    {
     "name": "stdout",
     "output_type": "stream",
     "text": [
      "Scully\n",
      "John\n",
      "Charles\n",
      "Jake\n",
      "Kelly\n"
     ]
    },
    {
     "data": {
      "text/plain": [
       "5"
      ]
     },
     "execution_count": 21,
     "metadata": {},
     "output_type": "execute_result"
    }
   ],
   "source": [
    "firstNode = Node('John')\n",
    "linkedList = LinkedList()\n",
    "linkedList.insert(firstNode)\n",
    "secondNode = Node('Kelly')\n",
    "linkedList.insert(secondNode)\n",
    "thirdNode = Node('Scully')\n",
    "linkedList.insert_head(thirdNode)\n",
    "# linkedList.printlist()\n",
    "\n",
    "forthNode = Node('Jake')\n",
    "linkedList.insertAtPos(forthNode , 2)\n",
    "fifthNode = Node('Charles')\n",
    "linkedList.insert_between('John' , 'Jake' , fifthNode)\n",
    "linkedList.printlist()\n",
    "linkedList.listLength()"
   ]
  },
  {
   "cell_type": "code",
   "execution_count": 22,
   "metadata": {},
   "outputs": [
    {
     "name": "stdout",
     "output_type": "stream",
     "text": [
      "Scully\n",
      "John\n",
      "Charles\n",
      "Amy\n",
      "Jake\n",
      "Kelly\n"
     ]
    }
   ],
   "source": [
    "fifthNode = Node('Amy')\n",
    "linkedList.insertAfter('Charles' , fifthNode)\n",
    "linkedList.printlist()"
   ]
  },
  {
   "cell_type": "code",
   "execution_count": 23,
   "metadata": {},
   "outputs": [
    {
     "name": "stdout",
     "output_type": "stream",
     "text": [
      "Scully\n",
      "John\n",
      "Charles\n",
      "Amy\n",
      "Rosa\n",
      "Jake\n",
      "Kelly\n"
     ]
    }
   ],
   "source": [
    "sixthNode = Node('Rosa')\n",
    "linkedList.insertBefore('Jake' , sixthNode)\n",
    "linkedList.printlist()"
   ]
  },
  {
   "cell_type": "code",
   "execution_count": 24,
   "metadata": {},
   "outputs": [
    {
     "name": "stdout",
     "output_type": "stream",
     "text": [
      "John\n",
      "Charles\n",
      "Amy\n",
      "Rosa\n",
      "Jake\n",
      "Kelly\n"
     ]
    }
   ],
   "source": [
    "linkedList.delete_head()\n",
    "linkedList.printlist()"
   ]
  },
  {
   "cell_type": "code",
   "execution_count": 25,
   "metadata": {},
   "outputs": [
    {
     "name": "stdout",
     "output_type": "stream",
     "text": [
      "John\n",
      "Charles\n",
      "Amy\n",
      "Jake\n",
      "Kelly\n"
     ]
    }
   ],
   "source": [
    "linkedList.delete('Rosa')\n",
    "linkedList.printlist()"
   ]
  },
  {
   "cell_type": "code",
   "execution_count": 26,
   "metadata": {},
   "outputs": [
    {
     "name": "stdout",
     "output_type": "stream",
     "text": [
      "John\n",
      "Charles\n",
      "Jake\n",
      "Kelly\n"
     ]
    }
   ],
   "source": [
    "linkedList.deleteAt(2)\n",
    "linkedList.printlist()"
   ]
  },
  {
   "cell_type": "markdown",
   "metadata": {},
   "source": [
    "## Circular linked List\n",
    "\n",
    "- Detecting the loops in the liked List and removing them"
   ]
  },
  {
   "cell_type": "code",
   "execution_count": 27,
   "metadata": {},
   "outputs": [],
   "source": [
    "# inherit the class Node to add isVisited in Node class\n",
    "class NewNode(Node):\n",
    "    def __init__(self , data):\n",
    "        super().__init__(data)\n",
    "        self.isvisited = False"
   ]
  },
  {
   "cell_type": "code",
   "execution_count": 28,
   "metadata": {},
   "outputs": [],
   "source": [
    "#Since it is ouut the of the classes now so we will pass the linked list \n",
    "#in teh fucntion parameters\n",
    "\n",
    "def detectCycle(linkedlist):\n",
    "    currentNode = linkedlist.head\n",
    "    currentNode.isvisited = True\n",
    "    while True:\n",
    "        if currentNode.next.isvisited is True:\n",
    "            currentNode.next = None\n",
    "            break\n",
    "        currentNode = currentNode.next\n",
    "        currentNode.isvisited = True\n",
    "    "
   ]
  },
  {
   "cell_type": "code",
   "execution_count": 29,
   "metadata": {},
   "outputs": [],
   "source": [
    "node1 = NewNode('Scully')\n",
    "node2 = NewNode('Rosa')\n",
    "node3 = NewNode('Hitchcock')\n",
    "linkedlist = LinkedList()\n",
    "linkedlist.insert(node1)\n",
    "linkedlist.insert(node2)\n",
    "linkedlist.insert(node3)\n",
    "node3.next = node2"
   ]
  },
  {
   "cell_type": "code",
   "execution_count": 30,
   "metadata": {},
   "outputs": [
    {
     "name": "stdout",
     "output_type": "stream",
     "text": [
      "Scully\n",
      "Rosa\n",
      "Hitchcock\n"
     ]
    }
   ],
   "source": [
    "detectCycle(linkedlist)\n",
    "linkedlist.printlist()"
   ]
  },
  {
   "cell_type": "markdown",
   "metadata": {},
   "source": [
    "## Swapping the two nodes of a linked list\n"
   ]
  },
  {
   "cell_type": "code",
   "execution_count": 31,
   "metadata": {},
   "outputs": [
    {
     "name": "stdout",
     "output_type": "stream",
     "text": [
      "3\n",
      "5\n",
      "7\n",
      "8\n",
      "10\n"
     ]
    }
   ],
   "source": [
    "n1 = Node(3)\n",
    "n2 = Node(5)\n",
    "n3 = Node(7)\n",
    "n4 = Node(8)\n",
    "n5 = Node(10)\n",
    "newlist = LinkedList()\n",
    "newlist.insert(n1)\n",
    "newlist.insert(n2)\n",
    "newlist.insert(n3)\n",
    "newlist.insert(n4)\n",
    "newlist.insert(n5)\n",
    "newlist.printlist()"
   ]
  },
  {
   "cell_type": "code",
   "execution_count": 34,
   "metadata": {},
   "outputs": [],
   "source": [
    "def swapNode(newlist , dataOne, dataTwo):\n",
    "    currentNode = newlist.head\n",
    "    FirstNode = None\n",
    "    SecondNode = None\n",
    "    # Disconnecting the link of first node\n",
    "    while True:\n",
    "        if currentNode.data == dataOne:\n",
    "            previousFirst.next = currentNode.next\n",
    "            currentNode.next = None\n",
    "            FirstNode = currentNode\n",
    "            break\n",
    "        previousFirst = currentNode\n",
    "        currentNode = currentNode.next\n",
    "    currentNode = newlist.head\n",
    "    # Disconnecting the link of the second node\n",
    "    while True:\n",
    "        if currentNode.data == dataTwo:\n",
    "            previousSecond.next = currentNode.next\n",
    "            currentNode.next = None\n",
    "            SecondNode = currentNode\n",
    "            break\n",
    "        previousSecond = currentNode\n",
    "        currentNode = currentNode.next\n",
    "    \n",
    "    #Reconnecting the nodes and swapping their positions\n",
    "    SecondNode.next = previousFirst.next\n",
    "    previousFirst.next = SecondNode\n",
    "    FirstNode.next = previousSecond.next\n",
    "    previousSecond.next = FirstNode\n",
    "        "
   ]
  },
  {
   "cell_type": "code",
   "execution_count": 35,
   "metadata": {},
   "outputs": [],
   "source": [
    "swapNode(newlist , 5 , 8)"
   ]
  },
  {
   "cell_type": "code",
   "execution_count": 36,
   "metadata": {},
   "outputs": [
    {
     "name": "stdout",
     "output_type": "stream",
     "text": [
      "3\n",
      "8\n",
      "7\n",
      "5\n",
      "10\n"
     ]
    }
   ],
   "source": [
    "newlist.printlist()"
   ]
  },
  {
   "cell_type": "markdown",
   "metadata": {},
   "source": [
    "# Sorting the LinkedList"
   ]
  },
  {
   "cell_type": "code",
   "execution_count": 61,
   "metadata": {},
   "outputs": [
    {
     "name": "stdout",
     "output_type": "stream",
     "text": [
      "4\n",
      "3\n",
      "5\n",
      "1\n"
     ]
    }
   ],
   "source": [
    "Nodeone = Node(4)\n",
    "NodeTwo = Node(3)\n",
    "NodeThree = Node(5)\n",
    "NodeFour = Node(1)\n",
    "llist = LinkedList()\n",
    "llist.insert(Nodeone)\n",
    "llist.insert(NodeTwo)\n",
    "llist.insert(NodeThree)\n",
    "llist.insert(NodeFour)\n",
    "llist.printlist()"
   ]
  },
  {
   "cell_type": "code",
   "execution_count": 43,
   "metadata": {},
   "outputs": [],
   "source": [
    "def swapNext(llist ,previousNode, largestNode , nextNode):\n",
    "    largestNode.next = nextNode.next\n",
    "    nextNode.next = largestNode\n",
    "    if largestNode is llist.head:\n",
    "        llist.head = nextNode\n",
    "        return\n",
    "    previousNode.next = nextNode\n",
    "        \n",
    "\n",
    "def sort(llist):\n",
    "    numberofiter = llist.listLength() - 1\n",
    "    while numberofiter != 0:\n",
    "        largestNode = llist.head\n",
    "        previousNode = None\n",
    "        numberofcomparison = numberofiter\n",
    "        while numberofcomparison !=0:\n",
    "            if largestNode.data > largestNode.next.data:\n",
    "                swapNext(llist ,previousNode, largestNode , largestNode.next)\n",
    "            else:\n",
    "                previousNode = largestNode\n",
    "                largestNode = largestNode.next\n",
    "            #perform this \n",
    "            numberofcomparison -=1\n",
    "        \n",
    "        \n",
    "        # perform this\n",
    "        numberofiter -=1\n",
    "        "
   ]
  },
  {
   "cell_type": "code",
   "execution_count": 44,
   "metadata": {},
   "outputs": [],
   "source": [
    "sort(llist)"
   ]
  },
  {
   "cell_type": "code",
   "execution_count": 45,
   "metadata": {},
   "outputs": [
    {
     "name": "stdout",
     "output_type": "stream",
     "text": [
      "1\n",
      "3\n",
      "4\n",
      "5\n"
     ]
    }
   ],
   "source": [
    "llist.printlist()"
   ]
  },
  {
   "cell_type": "markdown",
   "metadata": {},
   "source": [
    "# Removing the duplicates from a sorted Singly Linkedlist"
   ]
  },
  {
   "cell_type": "code",
   "execution_count": 65,
   "metadata": {},
   "outputs": [],
   "source": [
    "def Remove_Duplicates(linkedlist):\n",
    "    currentNode = newlist.head\n",
    "    previousNode = None\n",
    "    while currentNode !=None:\n",
    "        if currentNode.data == currentNode.next.data:\n",
    "            tempNode = currentNode\n",
    "            previousNode.next = tempNode.next\n",
    "            tempNode.next = None\n",
    "            del tempNode\n",
    "        previousNode = currentNode\n",
    "        currentNode = currentNode.next\n"
   ]
  },
  {
   "cell_type": "code",
   "execution_count": 66,
   "metadata": {},
   "outputs": [
    {
     "name": "stdout",
     "output_type": "stream",
     "text": [
      "3\n",
      "5\n",
      "8\n",
      "10\n"
     ]
    }
   ],
   "source": [
    "if __name__ == \"__main__\":\n",
    "    n1 = Node(3)\n",
    "    n2 = Node(5)\n",
    "    n3 = Node(5)\n",
    "    n4 = Node(8)\n",
    "    n5 = Node(10)\n",
    "    newlist = LinkedList()\n",
    "    newlist.insert(n1)\n",
    "    newlist.insert(n2)\n",
    "    newlist.insert(n3)\n",
    "    newlist.insert(n4)\n",
    "    newlist.insert(n5)\n",
    "    Remove_Duplicates(newlist)\n",
    "    newlist.printlist()"
   ]
  },
  {
   "cell_type": "markdown",
   "metadata": {},
   "source": [
    "# Merging Two sorted LinkedList"
   ]
  },
  {
   "cell_type": "code",
   "execution_count": 67,
   "metadata": {},
   "outputs": [],
   "source": [
    "# Merging the list1 and list2 into result linkedList\n",
    "# The two linkedList should be sorted for this kind on arrangement\n",
    "\n",
    "def mergeList(list1 , list2 , result):\n",
    "    currentFirst = list1.head\n",
    "    currentSecond = list2.head\n",
    "    while True:\n",
    "        if currentFirst is None:\n",
    "            result.insert(currentSecond)\n",
    "            break\n",
    "        if currentSecond is None:\n",
    "            result.insert(currentFirst)\n",
    "            break\n",
    "        if currentFirst.data < currentSecond.data:\n",
    "            currentFirstNext = currentFirst.next\n",
    "            currentFirst.next = None\n",
    "            result.insert(currentFirst)\n",
    "            currentFirst = currentFirstNext\n",
    "        else:\n",
    "            currentSecondNext = currentSecond.next\n",
    "            currentSecond.next = None\n",
    "            result.insert(currentSecond)\n",
    "            currentSecond = currentSecondNext\n",
    "            \n",
    "    \n",
    "\n"
   ]
  },
  {
   "cell_type": "code",
   "execution_count": 68,
   "metadata": {},
   "outputs": [
    {
     "name": "stdout",
     "output_type": "stream",
     "text": [
      " First List \n",
      "1\n",
      "3\n",
      "4\n",
      "Second List\n",
      "2\n",
      "7\n",
      "9\n",
      "The merged List\n",
      "1\n",
      "2\n",
      "3\n",
      "4\n",
      "7\n",
      "9\n"
     ]
    }
   ],
   "source": [
    "if __name__ == \"__main__\":\n",
    "    Node1 = Node(1)\n",
    "    Node2 = Node(3)\n",
    "    Node3 = Node(4)\n",
    "    Node4 = Node(2)\n",
    "    Node5 = Node(7)\n",
    "    Node6 = Node(9)\n",
    "    # Inserting nodes in list 1 \n",
    "    list1 = LinkedList()\n",
    "    list1.insert(Node1)\n",
    "    list1.insert(Node2)\n",
    "    list1.insert(Node3)\n",
    "    print(\" First List \")\n",
    "    list1.printlist()\n",
    "    # Inserting nodes in list 2\n",
    "    list2 = LinkedList()\n",
    "    list2.insert(Node4)\n",
    "    list2.insert(Node5)\n",
    "    list2.insert(Node6)\n",
    "    print('Second List')\n",
    "    list2.printlist()\n",
    "    # Storing the merged list in result \n",
    "    result = LinkedList()\n",
    "    print(\"The merged List\")\n",
    "    mergeList(list1 , list2 , result)\n",
    "    result.printlist()\n"
   ]
  },
  {
   "cell_type": "code",
   "execution_count": null,
   "metadata": {},
   "outputs": [],
   "source": []
  }
 ],
 "metadata": {
  "kernelspec": {
   "display_name": "Python 3",
   "language": "python",
   "name": "python3"
  },
  "language_info": {
   "codemirror_mode": {
    "name": "ipython",
    "version": 3
   },
   "file_extension": ".py",
   "mimetype": "text/x-python",
   "name": "python",
   "nbconvert_exporter": "python",
   "pygments_lexer": "ipython3",
   "version": "3.7.7"
  }
 },
 "nbformat": 4,
 "nbformat_minor": 4
}
