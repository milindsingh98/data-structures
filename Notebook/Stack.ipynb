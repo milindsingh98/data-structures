{
 "cells": [
  {
   "cell_type": "markdown",
   "metadata": {},
   "source": [
    "# Stack Implementation using list"
   ]
  },
  {
   "cell_type": "code",
   "execution_count": 4,
   "metadata": {},
   "outputs": [
    {
     "name": "stdout",
     "output_type": "stream",
     "text": [
      "Size is 3\n",
      "Popped Item 5\n"
     ]
    }
   ],
   "source": [
    "class Stack:\n",
    "    def __init__(self):\n",
    "        self.stack = []\n",
    "        \n",
    "    def push(self , data):\n",
    "        self.stack.append(data)\n",
    "        \n",
    "    def pop(self):\n",
    "        if self.stack_size < 1:\n",
    "            return 'The stack is empty'\n",
    "        data = self.stack[-1]\n",
    "        del self.stack[-1]\n",
    "        return data\n",
    "    \n",
    "    def peek(self):\n",
    "        return self.stack[-1]\n",
    "    \n",
    "    def isEmpty(self):\n",
    "        return self.stack == []\n",
    "    \n",
    "    def stack_size(self):\n",
    "        return len(self.stack)\n",
    "    \n",
    "    \n",
    "stack = Stack()\n",
    "stack.push(1)\n",
    "stack.push(3)\n",
    "stack.push(5)\n",
    "print('Size is ' + str(stack.stack_size()))\n",
    "print('Popped Item ' + str(stack.pop()))"
   ]
  },
  {
   "cell_type": "code",
   "execution_count": null,
   "metadata": {},
   "outputs": [],
   "source": []
  }
 ],
 "metadata": {
  "kernelspec": {
   "display_name": "Python 3",
   "language": "python",
   "name": "python3"
  },
  "language_info": {
   "codemirror_mode": {
    "name": "ipython",
    "version": 3
   },
   "file_extension": ".py",
   "mimetype": "text/x-python",
   "name": "python",
   "nbconvert_exporter": "python",
   "pygments_lexer": "ipython3",
   "version": "3.7.7"
  }
 },
 "nbformat": 4,
 "nbformat_minor": 4
}
