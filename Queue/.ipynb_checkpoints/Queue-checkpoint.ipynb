{
 "cells": [
  {
   "cell_type": "markdown",
   "metadata": {},
   "source": [
    "# Queue Implementation using lists\n",
    "\n",
    "### queue created with the help of the python inbuilt lists.The time complexity of each case in the best case scenario is O(1). Time complexity in the worst case scenario is O(n)\n",
    " The functions included are - Enqueue , - Dequeue -isEmpty , -peek"
   ]
  },
  {
   "cell_type": "code",
   "execution_count": 8,
   "metadata": {},
   "outputs": [
    {
     "name": "stdout",
     "output_type": "stream",
     "text": [
      "The first value is  2\n",
      "The first value is  4\n",
      "The first value is  6\n",
      "The first value is  The queue is empty\n",
      "The first value is  The queue is empty\n"
     ]
    }
   ],
   "source": [
    "class Queue:\n",
    "    def  __init__(self):\n",
    "        self.queue = []\n",
    "        \n",
    "    def isEmpty(self):\n",
    "        return self.queue == []\n",
    "    \n",
    "    def enqueue(self ,data):\n",
    "        self.queue.append(data)\n",
    "        \n",
    "    def dequeue(self):\n",
    "        if self.queue_size() < 1:\n",
    "            return 'The queue is empty'\n",
    "        data = self.queue[0]\n",
    "        del self.queue[0]\n",
    "        return data\n",
    "        \n",
    "    def peek(self):\n",
    "        return self.queue[0]\n",
    "    \n",
    "    def queue_size(self):\n",
    "        return len(self.queue)\n",
    "    \n",
    "    \n",
    "q = Queue()\n",
    "q.enqueue(2)\n",
    "q.enqueue(4)\n",
    "q.enqueue(6)\n",
    "print('The first value is ' , q.dequeue() )\n",
    "print('The first value is ' , q.dequeue() )\n",
    "print('The first value is ' , q.dequeue() )\n",
    "print('The first value is ' , q.dequeue() )\n",
    "print('The first value is ' , q.dequeue() )"
   ]
  },
  {
   "cell_type": "code",
   "execution_count": null,
   "metadata": {},
   "outputs": [],
   "source": []
  },
  {
   "cell_type": "code",
   "execution_count": null,
   "metadata": {},
   "outputs": [],
   "source": []
  }
 ],
 "metadata": {
  "kernelspec": {
   "display_name": "Python 3",
   "language": "python",
   "name": "python3"
  },
  "language_info": {
   "codemirror_mode": {
    "name": "ipython",
    "version": 3
   },
   "file_extension": ".py",
   "mimetype": "text/x-python",
   "name": "python",
   "nbconvert_exporter": "python",
   "pygments_lexer": "ipython3",
   "version": "3.7.7"
  }
 },
 "nbformat": 4,
 "nbformat_minor": 4
}
